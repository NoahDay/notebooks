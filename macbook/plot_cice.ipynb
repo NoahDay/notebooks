{
 "cells": [
  {
   "cell_type": "code",
   "execution_count": 10,
   "id": "4d916081",
   "metadata": {},
   "outputs": [],
   "source": [
    "# Import libraries\n",
    "\n",
    "import matplotlib.pyplot as plt\n",
    "import matplotlib.colors as colors\n",
    "import matplotlib\n",
    "#matplotlib.use('qtagg')\n",
    "import xarray as xr\n",
    "import numpy as np\n",
    "from netCDF4 import Dataset\n",
    "#import IPython.display\n",
    "import cmocean.cm as cmo\n",
    "import cartopy.crs as ccrs\n",
    "import cartopy.feature as cft\n",
    "#import cosima_cookbook as cc\n",
    "#import cosima-cookbook as cc\n",
    "#from mpl_toolkits.basemap import Basemap\n",
    "#import basemap as bs\n",
    "from os import listdir\n",
    "from os.path import isfile, join\n",
    "import math\n",
    "import time\n",
    "import sys\n"
   ]
  },
  {
   "attachments": {},
   "cell_type": "markdown",
   "id": "0038827c",
   "metadata": {},
   "source": [
    "### Functions\n"
   ]
  },
  {
   "cell_type": "code",
   "execution_count": 5,
   "id": "63a1d883",
   "metadata": {},
   "outputs": [],
   "source": [
    "def get_lat_idx(lat, region):\n",
    "    '''\n",
    "    Get a list of variables associated with a pre-defined name.\n",
    "    '''\n",
    "    if region == 'Antarctic':\n",
    "        idx = lat < -50\n",
    "    elif region == 'Arctic':\n",
    "        idx = lat > 45\n",
    "    elif region == 'SH':\n",
    "        idx = lat < 0\n",
    "    elif region == 'NH':\n",
    "        idx = lat > 0\n",
    "    return idx\n",
    "\n",
    "def get_var_list(list_name):\n",
    "    '''\n",
    "    Get a list of variables associated with a pre-defined name.\n",
    "    '''\n",
    "    if list_name == 'ocn':\n",
    "        var_list = ['sst','sss','uocn','vocn','frzmlt']\n",
    "    elif list_name == 'atmo':\n",
    "        var_list = ['Tair','uatm','vatm','fswdn','flwdn','snow']\n",
    "    elif list_name == 'wave':\n",
    "        var_list = ['aice','wave_sig_ht','peak_period','mean_wave_dir']\n",
    "    elif list_name == 'ice':\n",
    "        var_list = ['aice','hi','fsdrad','iage','uvel','vvel','frazil','congel']\n",
    "    elif list_name == 'JRA55':\n",
    "         var_list = ['airtmp']\n",
    "    else:\n",
    "        var_list = [list_name]\n",
    "\n",
    "    \n",
    "    return var_list\n",
    "\n",
    "\n",
    "def get_proj_info(region):\n",
    "    '''\n",
    "    Get a the projection and coordinate limits relevant for the particular region.\n",
    "    '''\n",
    "    if region == \"south\":\n",
    "        projection = ccrs.SouthPolarStereo()\n",
    "        coord_lims = [-180, 180, -40, -90]\n",
    "    elif region == \"north\":\n",
    "        projection = ccrs.NorthPolarStereo()\n",
    "        coord_lims = [-180, 180, 50, 90]\n",
    "    else:\n",
    "        projection = ccrs.Robinson()\n",
    "        coord_lims = [-180, 180, -90, 90]\n",
    "        # ccrs.SouthPolarStereo()\n",
    "        # ccrs.Robinson()\n",
    "\n",
    "    return projection, coord_lims\n",
    "\n",
    "\n",
    "def plot_map(ax,exp,ds,LN,LT,region):\n",
    "    '''\n",
    "    Plot a map.\n",
    "    '''\n",
    "\n",
    "\n",
    "    projection, coord_lims = get_proj_info(region)\n",
    "    land_50m = cft.NaturalEarthFeature('physical', 'land', '50m',\n",
    "                            edgecolor='black', facecolor='gray', linewidth=0.5)\n",
    "    ax.coastlines(resolution='50m')\n",
    "    ax.add_feature(land_50m)\n",
    "    ax.set_extent(coord_lims, ccrs.PlateCarree())\n",
    "    #gl = ax.gridlines(draw_labels=False)\n",
    "\n",
    "    if  exp == 'vatm' or exp == 'uatm' or exp == 'uvel' or exp == 'vvel':\n",
    "#        plot_data = ds[exp][0,:,:]\n",
    "#        idx = plot_data > -2.0\n",
    "#        print(idx.shape)\n",
    "#        print(plot_data.shape)\n",
    "        #plot_data = plot_data*float(idx)#np.multiply(plot_data,float(idx))\n",
    "        #plot_data[idx] = 0#float(\"NAN\")\n",
    "        #print(min(ds[exp][0,:,:]))\n",
    "       # if min(ds[exp][0,:,:]) < -2*(10**6):\n",
    "       #     p1 = ax.pcolormesh(LN,LT,ds[exp][0,:,:], \n",
    "       #                         transform=ccrs.PlateCarree(),\n",
    "       #                         cmap='RdBu_r',  vmin=-0.5, vmax=0.5)\n",
    "       # else:\n",
    "        p1 = ax.pcolormesh(LN,LT,ds[exp][0,:,:], \n",
    "                        transform=ccrs.PlateCarree(),\n",
    "                        cmap='RdBu_r',  norm=colors.CenteredNorm()) #\n",
    "        #end\n",
    "                            #,norm=colors.CenteredNorm())\n",
    "    elif exp == 'uocn' or exp == 'vocn': \n",
    "        p1 = ax.pcolormesh(LN,LT,ds[exp][0,:,:], \n",
    "                        transform=ccrs.PlateCarree(),\n",
    "                        cmap='RdBu_r',  vmin=-0.5, vmax=0.5)\n",
    "\n",
    "    elif exp == 'aice':\n",
    "        p1 = ax.pcolormesh(LN,LT,ds[exp][0,:,:], \n",
    "                        transform=ccrs.PlateCarree(),\n",
    "                        cmap=cmo.ice,  vmin=0, vmax=1) #norm=colors.CenteredNorm())\n",
    "    elif exp == 'sst' or exp == 'Tair' or exp == 'frzmlt': \n",
    "        p1 = ax.pcolormesh(LN,LT,ds[exp][0,:,:], \n",
    "                        transform=ccrs.PlateCarree(),\n",
    "                        cmap=cmo.thermal)\n",
    "    elif exp == 'sss':\n",
    "        p1 = ax.pcolormesh(LN,LT,ds[exp][0,:,:], \n",
    "                        transform=ccrs.PlateCarree(),\n",
    "                        cmap=cmo.delta)\n",
    "    else:\n",
    "        p1 = ax.pcolormesh(LN,LT,ds[exp][0,:,:], \n",
    "                        transform=ccrs.PlateCarree())\n",
    "\n",
    "    cb = plt.colorbar(p1, orientation='vertical')\n",
    "    fontsize = 6\n",
    "    cb.ax.set_ylabel( ds[exp].attrs[\"long_name\"].partition(' of ')[0] + ' [' +  ds[exp].attrs[\"units\"] + ']' , size=fontsize);\n",
    "    cb.ax.tick_params(labelsize=fontsize) \n",
    "    #ax_cb = plt.axes([0.85, 0.15, 0.03, 0.7])\n",
    "    #cb = plt.colorbar(p1, cax=ax_cb, orientation='vertical')\n",
    "    #ax_cb = plt.axes([0.85, 0.15, 0.03, 0.7])\n",
    "\n",
    "    return ax\n",
    "\n",
    "def ProgressBar(Total, Progress, BarLength=20, ProgressIcon=\"#\", BarIcon=\"-\"):\n",
    "    try:\n",
    "        # You can't have a progress bar with zero or negative length.\n",
    "        if BarLength <1:\n",
    "            BarLength = 20\n",
    "        # Use status variable for going to the next line after progress completion.\n",
    "        Status = \"\"\n",
    "        # Calcuting progress between 0 and 1 for percentage.\n",
    "        Progress = float(Progress) / float(Total)\n",
    "        # Doing this conditions at final progressing.\n",
    "        if Progress >= 1.:\n",
    "            Progress = 1\n",
    "            Status = \"\\r\\n\"    # Going to the next line\n",
    "        # Calculating how many places should be filled\n",
    "        Block = int(round(BarLength * Progress))\n",
    "        # Show this\n",
    "        Bar = \"[{}] {:.0f}% {}\".format(ProgressIcon * Block + BarIcon * (BarLength - Block), round(Progress * 100, 0), Status)\n",
    "        return Bar\n",
    "    except:\n",
    "        return \"ERROR\"\n",
    "\n",
    "\n",
    "def ShowBar(Bar):\n",
    "    sys.stdout.write(Bar)\n",
    "    sys.stdout.flush()\n",
    "\n",
    "    "
   ]
  },
  {
   "attachments": {},
   "cell_type": "markdown",
   "id": "4ab9232a",
   "metadata": {},
   "source": [
    "# Main script\n",
    "\n",
    "\n"
   ]
  },
  {
   "cell_type": "code",
   "execution_count": 8,
   "id": "a3ee126f",
   "metadata": {},
   "outputs": [
    {
     "name": "stdout",
     "output_type": "stream",
     "text": [
      "Plotting:\n",
      "Progress: [....................] 0% Saving figure...\n"
     ]
    },
    {
     "name": "stderr",
     "output_type": "stream",
     "text": [
      "/Users/noahday/opt/anaconda3/envs/notebook/lib/python3.10/site-packages/shapely/constructive.py:181: RuntimeWarning: invalid value encountered in buffer\n",
      "  return lib.buffer(\n",
      "/Users/noahday/opt/anaconda3/envs/notebook/lib/python3.10/site-packages/shapely/constructive.py:181: RuntimeWarning: invalid value encountered in buffer\n",
      "  return lib.buffer(\n"
     ]
    },
    {
     "name": "stdout",
     "output_type": "stream",
     "text": [
      "Image saved!\n"
     ]
    },
    {
     "name": "stderr",
     "output_type": "stream",
     "text": [
      "/Users/noahday/opt/anaconda3/envs/notebook/lib/python3.10/site-packages/shapely/constructive.py:181: RuntimeWarning: invalid value encountered in buffer\n",
      "  return lib.buffer(\n",
      "/Users/noahday/opt/anaconda3/envs/notebook/lib/python3.10/site-packages/shapely/constructive.py:181: RuntimeWarning: invalid value encountered in buffer\n",
      "  return lib.buffer(\n"
     ]
    },
    {
     "data": {
      "text/plain": [
       "<Figure size 640x480 with 0 Axes>"
      ]
     },
     "metadata": {},
     "output_type": "display_data"
    },
    {
     "name": "stderr",
     "output_type": "stream",
     "text": [
      "/Users/noahday/opt/anaconda3/envs/notebook/lib/python3.10/site-packages/shapely/constructive.py:181: RuntimeWarning: invalid value encountered in buffer\n",
      "  return lib.buffer(\n",
      "/Users/noahday/opt/anaconda3/envs/notebook/lib/python3.10/site-packages/shapely/constructive.py:181: RuntimeWarning: invalid value encountered in buffer\n",
      "  return lib.buffer(\n",
      "/Users/noahday/opt/anaconda3/envs/notebook/lib/python3.10/site-packages/shapely/constructive.py:181: RuntimeWarning: invalid value encountered in buffer\n",
      "  return lib.buffer(\n",
      "/Users/noahday/opt/anaconda3/envs/notebook/lib/python3.10/site-packages/shapely/constructive.py:181: RuntimeWarning: invalid value encountered in buffer\n",
      "  return lib.buffer(\n"
     ]
    },
    {
     "data": {
      "image/png": "[encoded data removed]",
      "text/plain": [
       "<Figure size 640x480 with 2 Axes>"
      ]
     },
     "metadata": {},
     "output_type": "display_data"
    }
   ],
   "source": [
    "case = 'access-om2_025'\n",
    "date = '2003-01'\n",
    "filename =  '/Users/noahday/GitHub/cice-dirs/runs/access-om2_025/history/iceh_inst.2003-01-01-03600.nc' \n",
    "ds = xr.open_dataset(filename)\n",
    "plt.figure() #figsize=(15,8))\n",
    "LN = ds.TLON.values\n",
    "LT = ds.TLAT.values\n",
    "\n",
    "var_name = 'fsdrad'\n",
    "    # 'ice', 'ocn', 'atmo', 'wave'\n",
    "variable_list = get_var_list(var_name)\n",
    "hemisphere = \"south\"\n",
    "\n",
    "\n",
    "plt.rcParams.update({\n",
    "        \"text.usetex\": False,\n",
    "        \"font.family\": \"Helvetica\"#\"Computer Modern Roman\"\n",
    "    })\n",
    "\n",
    "#filename = '/g/data/dy43/cice-dirs/runs/nowaves/history/iceh.2003-02-14.nc'\n",
    "ds = xr.open_dataset(filename)\n",
    "plt.figure() #figsize=(15,8))\n",
    "#LN = ds.LON.values\n",
    "#LT = ds.LAT.values\n",
    "projection, coord_lims = get_proj_info(hemisphere)\n",
    "print('Plotting:')\n",
    "\n",
    "\n",
    "for counter, exp in enumerate(variable_list):\n",
    "    progressBar = \"\\rProgress: \" + ProgressBar(len(variable_list), counter, 20, '#', '.')\n",
    "    ShowBar(progressBar)\n",
    "    ax = plt.subplot(2, math.ceil(len(variable_list)/2), counter+1, projection=projection, label='{0}'.format(counter))\n",
    "    #print('     ' + exp)\n",
    "    ax= plot_map(ax,exp,ds,LN,LT,hemisphere)\n",
    "    ax.set_title(variable_list[counter])\n",
    "\n",
    "   \n",
    "\n",
    "\n",
    "print('Saving figure...')\n",
    "temp = filename.partition('.')[2]\n",
    "plt.savefig(date+'_'+var_name+'-'+hemisphere+'.png', dpi = 300)  \n",
    "print('Image saved!')\n"
   ]
  },
  {
   "cell_type": "code",
   "execution_count": null,
   "id": "e1566ca9",
   "metadata": {},
   "outputs": [
    {
     "name": "stdout",
     "output_type": "stream",
     "text": [
      "['Gurmukhi Sangam MN', 'System Font', 'Noto Nastaliq Urdu', 'Noto Sans Ol Chiki', 'Party LET', 'Big Caslon', 'Webdings', 'Chalkboard SE', 'STIXSizeOneSym', 'Noto Sans Mende Kikakui', 'Palatino', 'Noto Sans Meroitic', 'STIXNonUnicode', 'Noto Sans Phoenician', 'Phosphate', 'Lucida Grande', 'Noto Sans Khojki', 'Noto Sans Inscriptional Parthian', 'DejaVu Serif Display', 'Marker Felt', 'Noto Sans Tifinagh', 'Noto Sans Oriya', 'Arial Hebrew', 'Mshtakan', 'Noto Sans Siddham', 'Athelas', 'Symbol', 'Diwan Thuluth', 'Krungthep', 'Al Tarikh', 'Heiti TC', 'Noto Sans Syloti Nagri', 'Noto Sans Osage', 'STIXGeneral', 'Nadeem', 'Noto Sans Warang Citi', 'Rockwell', 'Menlo', 'Euphemia UCAS', 'Kannada Sangam MN', 'Arial', 'STIXSizeFiveSym', 'Noto Sans Marchen', 'New Peninim MT', 'Skia', 'Noto Serif Ahom', 'Raanana', 'Noto Sans Lepcha', 'Charter', 'DecoType Naskh', 'Noto Sans Newa', 'Noto Sans Gothic', 'cmss10', 'Muna', 'Noto Sans Tai Tham', 'Noto Sans Sundanese', 'Noto Sans Coptic', 'STIXSizeFourSym', 'Noto Sans Bassa Vah', 'cmex10', 'Noto Sans Cuneiform', 'Farah', 'Mishafi', 'Noto Sans Buginese', 'Noto Sans Hatran', 'Noto Sans Manichaean', 'Sana', 'Songti SC', 'Hiragino Maru Gothic Pro', 'Noto Sans Samaritan', 'Telugu Sangam MN', 'Baskerville', 'Corsiva Hebrew', 'Noto Sans Old Hungarian', 'Gujarati MT', 'Noto Sans Modi', 'Tamil Sangam MN', 'Hiragino Mincho ProN', 'Noto Sans Vai', 'STIXIntegralsSm', 'STIXSizeTwoSym', 'cmtt10', 'Copperplate', 'Noto Sans Old South Arabian', 'DejaVu Serif', 'Silom', 'Wingdings 3', 'Noto Sans Bhaiksuki', 'Academy Engraved LET', 'Arial Black', 'STIXIntegralsUp', 'Noto Sans Carian', '.SF Compact Rounded', 'Georgia', 'DIN Condensed', 'Sinhala MN', 'STIXVariants', 'Wingdings 2', 'Herculanum', 'Noto Sans Tai Le', 'AppleGothic', 'Al Bayan', 'Noto Sans Kannada', 'Cochin', 'Diwan Kufi', 'Ayuthaya', 'Brush Script MT', 'Sukhumvit Set', 'Noto Sans Caucasian Albanian', 'Noto Sans Kaithi', 'InaiMathi', 'Times', 'Noto Sans Osmanya', 'Sinhala Sangam MN', 'Noto Sans Lisu', 'Malayalam Sangam MN', 'Zapfino', 'Noto Sans Old Turkic', 'Helvetica', 'Microsoft Sans Serif', 'Noto Sans Old Permic', 'Avenir Next Condensed', 'STIXIntegralsUpSm', 'Iowan Old Style', 'Kohinoor Telugu', 'Didot', 'Chalkduster', 'Noto Sans PhagsPa', 'Tamil MN', 'Avenir Next', 'Apple Symbols', 'Kefa', 'Andale Mono', 'Snell Roundhand', 'Devanagari MT', 'PT Sans', '.SF NS Rounded', 'Hiragino Sans GB', 'Zapf Dingbats', 'Kailasa', 'Malayalam MN', 'Futura', 'Noto Sans Thaana', 'Beirut', 'Apple SD Gothic Neo', 'Noto Sans Old Italic', 'Gujarati Sangam MN', 'Telugu MN', 'Noto Sans Glagolitic', 'DejaVu Sans', 'Noto Sans Limbu', 'Noto Sans Lydian', 'Noto Sans Tagalog', 'Noto Sans Linear A', 'STIXIntegralsUpD', 'Luminari', 'Noto Sans Hanunoo', 'Noto Sans Armenian', 'Plantagenet Cherokee', 'Noto Serif Myanmar', 'Bodoni 72 Smallcaps', 'Shree Devanagari 714', 'Noto Sans Buhid', 'Noto Sans Linear B', 'Bangla Sangam MN', 'STIXSizeThreeSym', 'Noto Serif Balinese', 'Noto Sans Gunjala Gondi', 'Noto Sans Meetei Mayek', 'Noto Sans Pau Cin Hau', 'Courier', 'cmb10', 'Noto Sans New Tai Lue', 'Al Nile', 'Mishafi Gold', 'Apple Chancery', 'cmr10', 'Noto Sans Multani', 'Khmer MN', 'AppleMyungjo', 'PingFang HK', 'KufiStandardGK', 'cmmi10', 'Farisi', '.SF Arabic', 'Noto Sans Nabataean', '.SF Compact', 'Khmer Sangam MN', 'Bodoni Ornaments', 'Noto Sans Tirhuta', 'Baghdad', 'Apple Braille', 'Noto Sans Khudawadi', 'PT Mono', 'Waseem', 'Geeza Pro', 'Oriya Sangam MN', 'Superclarendon', 'Noto Sans Yi', 'Lao MN', 'Noto Sans Myanmar', 'Gurmukhi MN', 'Noto Sans Avestan', 'Noteworthy', 'Comic Sans MS', 'Noto Sans Cypriot', 'Devanagari Sangam MN', 'Noto Sans Javanese', 'Noto Sans Mahajani', 'Geneva', 'Gill Sans', 'Noto Sans Sora Sompeng', 'Avenir', 'Noto Sans Adlam', 'Damascus', 'Noto Sans Mro', 'Impact', '.New York', 'Noto Sans Miao', 'Hiragino Sans', 'Seravek', 'Gurmukhi MT', 'Noto Sans Kayah Li', 'Tahoma', 'Marion', 'Noto Sans Lycian', 'Noto Sans Syriac', 'Myanmar MN', 'Noto Sans Old North Arabian', '.SF NS Mono', 'Noto Sans Chakma', '.Aqua Kana', 'Lao Sangam MN', 'Savoye LET', 'Noto Sans Sharada', 'Myanmar Sangam MN', 'PT Serif', 'Bangla MN', 'Optima', 'Noto Sans Psalter Pahlavi', 'Bradley Hand', 'PT Serif Caption', 'Noto Serif Yezidi', 'Kohinoor Devanagari', 'Noto Sans Kharoshthi', 'Noto Sans Batak', 'American Typewriter', 'Noto Sans Tai Viet', 'Noto Sans Rejang', 'Noto Sans Duployan', 'Noto Sans Palmyrene', 'Monaco', 'Courier New', 'Sathu', 'Hoefler Text', 'STIXIntegralsD', 'Trattatello', 'Papyrus', 'Oriya MN', 'Chalkboard', 'Noto Sans Bamum', 'Noto Sans Mongolian', 'Times New Roman', 'Noto Sans Elbasan', 'Kannada MN', 'Bodoni 72', 'Arial Rounded MT Bold', 'Noto Sans Pahawh Hmong', 'DejaVu Sans Mono', 'Arial Narrow', 'Kohinoor Bangla', 'Noto Sans Egyptian Hieroglyphs', 'Kokonor', 'Noto Sans Imperial Aramaic', 'Mukta Mahee', 'Noto Sans Saurashtra', 'Wingdings', '.Keyboard', 'Verdana', 'SignPainter', 'DejaVu Sans Display', 'Helvetica Neue', 'DIN Alternate', 'ITF Devanagari', 'Galvji', 'Noto Sans NKo', 'Bodoni 72 Oldstyle', 'Noto Sans Mandaic', 'Noto Sans Hanifi Rohingya', 'Noto Sans Ugaritic', 'Kohinoor Gujarati', 'Thonburi', 'Noto Sans Brahmi', 'cmsy10', 'Arial Unicode MS', 'Trebuchet MS', 'Noto Sans Tagbanwa', 'Noto Sans Cham', 'Noto Sans Wancho', 'Noto Sans Old Persian', 'Noto Sans Inscriptional Pahlavi', 'Noto Sans Takri', 'Noto Sans Masaram Gondi']\n"
     ]
    }
   ],
   "source": [
    "print(matplotlib.font_manager.get_font_names())"
   ]
  }
 ],
 "metadata": {
  "kernelspec": {
   "display_name": "notebook",
   "language": "python",
   "name": "python3"
  },
  "language_info": {
   "codemirror_mode": {
    "name": "ipython",
    "version": 3
   },
   "file_extension": ".py",
   "mimetype": "text/x-python",
   "name": "python",
   "nbconvert_exporter": "python",
   "pygments_lexer": "ipython3",
   "version": "3.10.8"
  },
  "vscode": {
   "interpreter": {
    "hash": "3079b1c4f6d31a32bb704c5290cd41a641bfca80c89d0f36bf28aa9592cfe0ad"
   }
  }
 },
 "nbformat": 4,
 "nbformat_minor": 5
}
